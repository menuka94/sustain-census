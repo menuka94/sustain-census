{
 "cells": [
  {
   "cell_type": "code",
   "execution_count": 1,
   "metadata": {},
   "outputs": [],
   "source": [
    "import pandas as pd\n",
    "from sqlalchemy import create_engine\n",
    "import pymysql"
   ]
  },
  {
   "cell_type": "code",
   "execution_count": 2,
   "metadata": {},
   "outputs": [],
   "source": [
    "columns = [\n",
    "    'geoid',\n",
    "    'name',\n",
    "    'male_total',\n",
    "    'male_under_5',\n",
    "    'male_5_to_9',\n",
    "    'male_10_to_14',\n",
    "    'male_15_to_17',\n",
    "    'male_18_to_19',\n",
    "    'male_20',\n",
    "    'male_21',\n",
    "    'male_22_to_24',\n",
    "    'male_25_to_29',\n",
    "    'male_30_to_34',\n",
    "    'male_35_to_39',\n",
    "    'male_40_to_44',\n",
    "    'male_45_to_49',\n",
    "    'male_50_to_54',\n",
    "    'male_55_to_59',\n",
    "    'male_60_to_61',\n",
    "    'male_62_to_64',\n",
    "    'male_65_to_66',\n",
    "    'male_67_to_69',\n",
    "    'male_70_to_74',\n",
    "    'male_75_to_79',\n",
    "    'male_80_to_84',\n",
    "    'male_85_and_over',\n",
    "    'female_total',\n",
    "    'female_under_5',\n",
    "    'female_5_to_9',\n",
    "    'female_10_to_14',\n",
    "    'female_15_to_17',\n",
    "    'female_18_to_19',\n",
    "    'female_20',\n",
    "    'female_21',\n",
    "    'female_22_to_24',\n",
    "    'female_25_to_29',\n",
    "    'female_30_to_34',\n",
    "    'female_35_to_39',\n",
    "    'female_40_to_44',\n",
    "    'female_45_to_49',\n",
    "    'female_50_to_54',\n",
    "    'female_55_to_59',\n",
    "    'female_60_to_61',\n",
    "    'female_62_to_64',\n",
    "    'female_65_to_66',\n",
    "    'female_67_to_69',\n",
    "    'female_70_to_74',\n",
    "    'female_75_to_79',\n",
    "    'female_80_to_84',\n",
    "    'female_85_and_over'\n",
    "]\n",
    "data = pd.read_csv(\"acs5_2011_age_states.csv\")[columns]"
   ]
  },
  {
   "cell_type": "code",
   "execution_count": 11,
   "metadata": {},
   "outputs": [],
   "source": [
    "data.to_csv('filtered_2011_age_states.csv')"
   ]
  }
 ],
 "metadata": {
  "kernelspec": {
   "display_name": "Python 3",
   "language": "python",
   "name": "python3"
  },
  "language_info": {
   "codemirror_mode": {
    "name": "ipython",
    "version": 3
   },
   "file_extension": ".py",
   "mimetype": "text/x-python",
   "name": "python",
   "nbconvert_exporter": "python",
   "pygments_lexer": "ipython3",
   "version": "3.8.2"
  }
 },
 "nbformat": 4,
 "nbformat_minor": 4
}
